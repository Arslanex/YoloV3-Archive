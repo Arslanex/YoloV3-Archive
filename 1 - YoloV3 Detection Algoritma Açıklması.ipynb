{
 "cells": [
  {
   "cell_type": "markdown",
   "source": [
    "Bu yazıda Yolo modellerinin tespit algoritmasının nasıl çalıştığını anlatacağım. Yazıda YoloV3-320 ağırlık ve config dosyalarını kullandım. Başlamadan önce kütüphanelerimizi import edelim."
   ],
   "metadata": {
    "collapsed": false
   }
  },
  {
   "cell_type": "code",
   "execution_count": 22,
   "outputs": [],
   "source": [
    "import cv2 as cv\n",
    "import numpy as np"
   ],
   "metadata": {
    "collapsed": false,
    "pycharm": {
     "name": "#%%\n"
    }
   }
  },
  {
   "cell_type": "markdown",
   "source": [
    "İlk olarak model içerisinde bulunan sınıfların isimlerini barındıran dosyayı içe aktarıp daha sonrasında değerleri bir liste içerisine kayıt edelim. Burada kullanılan coco.names dosyası Yolo'nun kendi modellerini barındıran isim dosyasıdır. Kendi modelleriniz için kendi isim dosyalarınızı oluşturmanız gerekecektir."
   ],
   "metadata": {
    "collapsed": false
   }
  },
  {
   "cell_type": "code",
   "execution_count": 23,
   "outputs": [
    {
     "name": "stdout",
     "output_type": "stream",
     "text": [
      "Yolo Classes ['person', 'bicycle', 'car', 'motorbike', 'aeroplane', 'bus', 'train', 'truck', 'boat', 'traffic light', 'fire hydrant', 'stop sign', 'parking meter', 'bench', 'bird', 'cat', 'dog', 'horse', 'sheep', 'cow', 'elephant', 'bear', 'zebra', 'giraffe', 'backpack', 'umbrella', 'handbag', 'tie', 'suitcase', 'frisbee', 'skis', 'snowboard', 'sports ball', 'kite', 'baseball bat', 'baseball glove', 'skateboard', 'surfboard', 'tennis racket', 'bottle', 'wine glass', 'cup', 'fork', 'knife', 'spoon', 'bowl', 'banana', 'apple', 'sandwich', 'orange', 'broccoli', 'carrot', 'hot dog', 'pizza', 'donut', 'cake', 'chair', 'sofa', 'pottedplant', 'bed', 'diningtable', 'toilet', 'tvmonitor', 'laptop', 'mouse', 'remote', 'keyboard', 'cell phone', 'microwave', 'oven', 'toaster', 'sink', 'refrigerator', 'book', 'clock', 'vase', 'scissors', 'teddy bear', 'hair drier', 'toothbrush']\n"
     ]
    }
   ],
   "source": [
    "nameOfClasses = []\n",
    "with open(\"files/yolov3/coco.names\", \"r\") as f:\n",
    "    nameOfClasses = [line.strip() for line in f.readlines()]\n",
    "\n",
    "print(\"Yolo Classes\",nameOfClasses)"
   ],
   "metadata": {
    "collapsed": false,
    "pycharm": {
     "name": "#%%\n"
    }
   }
  },
  {
   "cell_type": "markdown",
   "source": [
    "Sonrasında model için gerekli olan dosyaları, weights ve config dosyalarını içe aktarıyor ve Darknet üzerinden modelimizi oluşturuyoruz."
   ],
   "metadata": {
    "collapsed": false
   }
  },
  {
   "cell_type": "code",
   "execution_count": 24,
   "metadata": {
    "collapsed": true
   },
   "outputs": [],
   "source": [
    "modelConfig = \"files/yolov3/yolov3-320.cfg\"\n",
    "modelWeights = \"files/yolov3/yolov3-320.weights\"\n",
    "\n",
    "model = cv.dnn.readNetFromDarknet(modelConfig, modelWeights)"
   ]
  },
  {
   "cell_type": "markdown",
   "source": [
    "Modelimizin çalışırken kullanacağı ortam ve cihazları belirtiyoruz. Burada ilk seçenek CPU üzerinden işlem yapmayı sağlar iken ikinci seçenek GPU üzerinden işlem yapmayı sağlar. Ama GPU üzerinden işlem yapabilmek için OpenCV kütüphanesinin CUDA uyumlu şekilde kurulmuş olması gerekmektedir."
   ],
   "metadata": {
    "collapsed": false
   }
  },
  {
   "cell_type": "code",
   "execution_count": 25,
   "outputs": [],
   "source": [
    "# For CPU\n",
    "model.setPreferableBackend(cv.dnn.DNN_BACKEND_OPENCV)\n",
    "model.setPreferableTarget(cv.dnn.DNN_TARGET_CPU)"
   ],
   "metadata": {
    "collapsed": false,
    "pycharm": {
     "name": "#%%\n"
    }
   }
  },
  {
   "cell_type": "code",
   "execution_count": 26,
   "outputs": [],
   "source": [
    "# For GPU\n",
    "model.setPreferableBackend(cv.dnn.DNN_BACKEND_CUDA)\n",
    "model.setPreferableTarget(cv.dnn.DNN_TARGET_CUDA)"
   ],
   "metadata": {
    "collapsed": false,
    "pycharm": {
     "name": "#%%\n"
    }
   }
  },
  {
   "cell_type": "markdown",
   "source": [
    "Daha sonrasında tespit için kullanacağımız resimi içe aktaralım. İçe aktardığımız resimi model için hazır hale getirmemiz gerekmektedir. Bunu da resmi blob formatına getirerek yaparız. Burada dikkat edilmesi gereken blob resimin boyutudur. Her model belirli bir resim boyutu ile çalışır. Örneğin yolov3-320 320x320, yolov3-tiny 416x416 piksel resimlerile çalışırlar."
   ],
   "metadata": {
    "collapsed": false
   }
  },
  {
   "cell_type": "code",
   "execution_count": 27,
   "outputs": [],
   "source": [
    "img = cv.imread(\"test.jpeg\")\n",
    "#                                        Resimin Boyutu\n",
    "blob = cv.dnn.blobFromImage(img, 1 / 255, (320, 320), [0, 0, 0], 1, crop=False)"
   ],
   "metadata": {
    "collapsed": false,
    "pycharm": {
     "name": "#%%\n"
    }
   }
  },
  {
   "cell_type": "markdown",
   "source": [
    "Artık hazır olan resimimizi model içerisine gönderebiliriz."
   ],
   "metadata": {
    "collapsed": false
   }
  },
  {
   "cell_type": "code",
   "execution_count": 28,
   "outputs": [],
   "source": [
    "model.setInput(blob)"
   ],
   "metadata": {
    "collapsed": false,
    "pycharm": {
     "name": "#%%\n"
    }
   }
  },
  {
   "cell_type": "markdown",
   "source": [
    "Bu noktada resimimizi modele gönderdik ve bir sonuç oluştu. Artık yapmamız gereken şey bu oluşan sonuçları modelden çekmek. Bunu yapmamnın yolu ise YoloV3 böral ağında bulunan 3 çıktı katmanını tespit edip tutukları değerleri okumaktır. Bu yüzden ilk olarak nöral ağdaki yani modeldeki tüm katmanları tutan bir değişken oluşturuyoruz."
   ],
   "metadata": {
    "collapsed": false
   }
  },
  {
   "cell_type": "code",
   "execution_count": 29,
   "outputs": [
    {
     "name": "stdout",
     "output_type": "stream",
     "text": [
      "Katman Sayısı ::  254 Katman İsimleri :\n",
      "\n",
      " ('conv_0', 'bn_0', 'leaky_1', 'conv_1', 'bn_1', 'leaky_2', 'conv_2', 'bn_2', 'leaky_3', 'conv_3', 'bn_3', 'leaky_4', 'shortcut_4', 'conv_5', 'bn_5', 'leaky_6', 'conv_6', 'bn_6', 'leaky_7', 'conv_7', 'bn_7', 'leaky_8', 'shortcut_8', 'conv_9', 'bn_9', 'leaky_10', 'conv_10', 'bn_10', 'leaky_11', 'shortcut_11', 'conv_12', 'bn_12', 'leaky_13', 'conv_13', 'bn_13', 'leaky_14', 'conv_14', 'bn_14', 'leaky_15', 'shortcut_15', 'conv_16', 'bn_16', 'leaky_17', 'conv_17', 'bn_17', 'leaky_18', 'shortcut_18', 'conv_19', 'bn_19', 'leaky_20', 'conv_20', 'bn_20', 'leaky_21', 'shortcut_21', 'conv_22', 'bn_22', 'leaky_23', 'conv_23', 'bn_23', 'leaky_24', 'shortcut_24', 'conv_25', 'bn_25', 'leaky_26', 'conv_26', 'bn_26', 'leaky_27', 'shortcut_27', 'conv_28', 'bn_28', 'leaky_29', 'conv_29', 'bn_29', 'leaky_30', 'shortcut_30', 'conv_31', 'bn_31', 'leaky_32', 'conv_32', 'bn_32', 'leaky_33', 'shortcut_33', 'conv_34', 'bn_34', 'leaky_35', 'conv_35', 'bn_35', 'leaky_36', 'shortcut_36', 'conv_37', 'bn_37', 'leaky_38', 'conv_38', 'bn_38', 'leaky_39', 'conv_39', 'bn_39', 'leaky_40', 'shortcut_40', 'conv_41', 'bn_41', 'leaky_42', 'conv_42', 'bn_42', 'leaky_43', 'shortcut_43', 'conv_44', 'bn_44', 'leaky_45', 'conv_45', 'bn_45', 'leaky_46', 'shortcut_46', 'conv_47', 'bn_47', 'leaky_48', 'conv_48', 'bn_48', 'leaky_49', 'shortcut_49', 'conv_50', 'bn_50', 'leaky_51', 'conv_51', 'bn_51', 'leaky_52', 'shortcut_52', 'conv_53', 'bn_53', 'leaky_54', 'conv_54', 'bn_54', 'leaky_55', 'shortcut_55', 'conv_56', 'bn_56', 'leaky_57', 'conv_57', 'bn_57', 'leaky_58', 'shortcut_58', 'conv_59', 'bn_59', 'leaky_60', 'conv_60', 'bn_60', 'leaky_61', 'shortcut_61', 'conv_62', 'bn_62', 'leaky_63', 'conv_63', 'bn_63', 'leaky_64', 'conv_64', 'bn_64', 'leaky_65', 'shortcut_65', 'conv_66', 'bn_66', 'leaky_67', 'conv_67', 'bn_67', 'leaky_68', 'shortcut_68', 'conv_69', 'bn_69', 'leaky_70', 'conv_70', 'bn_70', 'leaky_71', 'shortcut_71', 'conv_72', 'bn_72', 'leaky_73', 'conv_73', 'bn_73', 'leaky_74', 'shortcut_74', 'conv_75', 'bn_75', 'leaky_76', 'conv_76', 'bn_76', 'leaky_77', 'conv_77', 'bn_77', 'leaky_78', 'conv_78', 'bn_78', 'leaky_79', 'conv_79', 'bn_79', 'leaky_80', 'conv_80', 'bn_80', 'leaky_81', 'conv_81', 'permute_82', 'yolo_82', 'identity_83', 'conv_84', 'bn_84', 'leaky_85', 'upsample_85', 'concat_86', 'conv_87', 'bn_87', 'leaky_88', 'conv_88', 'bn_88', 'leaky_89', 'conv_89', 'bn_89', 'leaky_90', 'conv_90', 'bn_90', 'leaky_91', 'conv_91', 'bn_91', 'leaky_92', 'conv_92', 'bn_92', 'leaky_93', 'conv_93', 'permute_94', 'yolo_94', 'identity_95', 'conv_96', 'bn_96', 'leaky_97', 'upsample_97', 'concat_98', 'conv_99', 'bn_99', 'leaky_100', 'conv_100', 'bn_100', 'leaky_101', 'conv_101', 'bn_101', 'leaky_102', 'conv_102', 'bn_102', 'leaky_103', 'conv_103', 'bn_103', 'leaky_104', 'conv_104', 'bn_104', 'leaky_105', 'conv_105', 'permute_106', 'yolo_106')\n"
     ]
    }
   ],
   "source": [
    "layerNames = model.getLayerNames()\n",
    "\n",
    "print(\"Katman Sayısı :: \",len(layerNames), \"Katman İsimleri :\")\n",
    "print(\"\\n\", layerNames)"
   ],
   "metadata": {
    "collapsed": false,
    "pycharm": {
     "name": "#%%\n"
    }
   }
  },
  {
   "cell_type": "markdown",
   "source": [
    "Şimdi ise tüm katmanlardan 3 çıktı katmanını ayırma işlemini yapacağız. Bunun için bir for döngüsü içinde tüm katmanları inceliyoruz. Kendinden sonra bir şeye bağlı olmayan yani UnconnectedOutLayer halinde olan katmanlar bizim çıktı katmanlarımızdır ve for döngüsü ile bunlarıda \" outputLayerNames \" içerisine depoluyoruz. (Burada - List Comperhension - yönetemi kullanılara for döngüsü tek satır haline getirilmiştir.)"
   ],
   "metadata": {
    "collapsed": false
   }
  },
  {
   "cell_type": "code",
   "execution_count": 30,
   "outputs": [
    {
     "name": "stdout",
     "output_type": "stream",
     "text": [
      "Çıktı Katmanları :: ['yolo_82', 'yolo_94', 'yolo_106']\n"
     ]
    }
   ],
   "source": [
    "outputLayerNames = [(layerNames[i - 1]) for i in model.getUnconnectedOutLayers()]\n",
    "\n",
    "print(\"Çıktı Katmanları ::\",outputLayerNames)"
   ],
   "metadata": {
    "collapsed": false,
    "pycharm": {
     "name": "#%%\n"
    }
   }
  },
  {
   "cell_type": "markdown",
   "source": [
    "Artık çıktı katmanlarını da bildiğimize göre içerlerinde tuttukları sonuçları çekebiliriz."
   ],
   "metadata": {
    "collapsed": false
   }
  },
  {
   "cell_type": "code",
   "execution_count": 31,
   "outputs": [],
   "source": [
    "outputs =  model.forward(outputLayerNames)"
   ],
   "metadata": {
    "collapsed": false,
    "pycharm": {
     "name": "#%%\n"
    }
   }
  },
  {
   "cell_type": "markdown",
   "source": [
    "Daha fazla ilerlemeden bilmeyenleriniz için YoloV3'ün ağ yapısından kısaca bahsetmeliyim. YoloV3 nöral ağ yapısı aşağıdaki şekildedir.\n",
    "\n",
    "![](images/structure.jpeg)\n",
    "\n",
    " Çıktı katmanlarının yapısını incelyeccek olursak, her bir katmanın resim üzerinde belirli sayıda kutusu vardır ve bu kutular içerisinde tanıma işlemi gerçekleştirir. Bu sayede klasik kayan pencereden çok ve çok daha hızlı şekilde tüm resimde tespit denemelerini yapmış olur. Diagramdaki pembe kareler aslında resim üzerindeki ilgili çıktı katmanının bounding box'larının çizilmiş hali. O kadar fazla ve iç içelerki resim pembe bir kutu olarak görünüyor.\n",
    "\n",
    "Birazda matematiksel olarak çıktı katmanlarını inceleyelim. 3 çıktı katmanınında boyutlarını inceleyecek olursak eğer . . ."
   ],
   "metadata": {
    "collapsed": false
   }
  },
  {
   "cell_type": "code",
   "execution_count": 32,
   "outputs": [
    {
     "name": "stdout",
     "output_type": "stream",
     "text": [
      "(300, 85)\n",
      "(1200, 85)\n",
      "(4800, 85)\n"
     ]
    }
   ],
   "source": [
    "print(outputs[0].shape)\n",
    "print(outputs[1].shape)\n",
    "print(outputs[2].shape)"
   ],
   "metadata": {
    "collapsed": false,
    "pycharm": {
     "name": "#%%\n"
    }
   }
  },
  {
   "cell_type": "markdown",
   "source": [
    ". . . çıktılarını elde ederiz. Buradaki ilk değerler katmanın kaç kutuya sahip olduğu, ikinci değer ise kaç stünunun olduğudur. Stünlari çıktı katmanlarının buldukları sonuçları depolarlar ama bunu ilerde detaylandıracağız o yüzden kutulara geri dönelim. Eğer tüm çıktı katmanlarındaki kutuları toplarsak tek bir resimde toplam 7300 kutu içerisinde eş zamanlı olrak tespit işlemi gerçekleşiyor. Böylece resimi küçük - büyük, yakın-uzak her açıdan tespite sokmuş oluyoruz. Daha derine inecek olursak eğer . . ."
   ],
   "metadata": {
    "collapsed": false
   }
  },
  {
   "cell_type": "code",
   "execution_count": 33,
   "outputs": [
    {
     "name": "stdout",
     "output_type": "stream",
     "text": [
      "3\n"
     ]
    }
   ],
   "source": [
    "print(len(outputs))"
   ],
   "metadata": {
    "collapsed": false,
    "pycharm": {
     "name": "#%%\n"
    }
   }
  },
  {
   "cell_type": "code",
   "execution_count": 34,
   "outputs": [
    {
     "name": "stdout",
     "output_type": "stream",
     "text": [
      "(array([[0.05675942, 0.06507903, 0.4949374 , ..., 0.        , 0.        ,\n",
      "        0.        ],\n",
      "       [0.06522804, 0.0505011 , 0.3891846 , ..., 0.        , 0.        ,\n",
      "        0.        ],\n",
      "       [0.06652524, 0.05380305, 1.0433797 , ..., 0.        , 0.        ,\n",
      "        0.        ],\n",
      "       ...,\n",
      "       [0.947155  , 0.9361667 , 0.5393416 , ..., 0.        , 0.        ,\n",
      "        0.        ],\n",
      "       [0.9567341 , 0.95334876, 0.41188383, ..., 0.        , 0.        ,\n",
      "        0.        ],\n",
      "       [0.96219033, 0.9553744 , 1.104331  , ..., 0.        , 0.        ,\n",
      "        0.        ]], dtype=float32), array([[0.01956277, 0.03172309, 0.05403508, ..., 0.        , 0.        ,\n",
      "        0.        ],\n",
      "       [0.02241009, 0.02457943, 0.46454987, ..., 0.        , 0.        ,\n",
      "        0.        ],\n",
      "       [0.02971033, 0.02151005, 0.08663657, ..., 0.        , 0.        ,\n",
      "        0.        ],\n",
      "       ...,\n",
      "       [0.96918625, 0.9692611 , 0.05536738, ..., 0.        , 0.        ,\n",
      "        0.        ],\n",
      "       [0.9735462 , 0.9706112 , 0.4552845 , ..., 0.        , 0.        ,\n",
      "        0.        ],\n",
      "       [0.9718984 , 0.9775319 , 0.097245  , ..., 0.        , 0.        ,\n",
      "        0.        ]], dtype=float32), array([[0.00816622, 0.0080172 , 0.01113305, ..., 0.        , 0.        ,\n",
      "        0.        ],\n",
      "       [0.01099352, 0.01465415, 0.02114934, ..., 0.        , 0.        ,\n",
      "        0.        ],\n",
      "       [0.01197768, 0.01035371, 0.23635323, ..., 0.        , 0.        ,\n",
      "        0.        ],\n",
      "       ...,\n",
      "       [0.98639506, 0.98674077, 0.02310597, ..., 0.        , 0.        ,\n",
      "        0.        ],\n",
      "       [0.98645926, 0.9838077 , 0.02385258, ..., 0.        , 0.        ,\n",
      "        0.        ],\n",
      "       [0.9839196 , 0.9885874 , 0.20711279, ..., 0.        , 0.        ,\n",
      "        0.        ]], dtype=float32))\n"
     ]
    }
   ],
   "source": [
    "print(outputs)"
   ],
   "metadata": {
    "collapsed": false,
    "pycharm": {
     "name": "#%%\n"
    }
   }
  },
  {
   "cell_type": "markdown",
   "source": [
    "Yukarıdaki listeyi sadeleştirecek olursak eğer bu sonucu elde ederiz :\n",
    "  1.çıktı katmanını içerisindeki kutuların 85 stündak için değerleri,\n",
    " (array([[box1 values],\n",
    "          [box2 values],\n",
    "           . . . ]])\n",
    "  2.çıktı katmanını içerisindeki kutuların 85 stündak için değerleri,\n",
    "  array([[box1 values],\n",
    "          [box2 values],\n",
    "           . . . ]])\n",
    "  3.çıktı katmanını içerisindeki kutuların 85 stündak için değerleri,\n",
    "  array([[box1 values],\n",
    "          [box2 values],\n",
    "           . . . ]]))\n",
    "\n",
    "Tek bir katmanın sonuçlarını inceleyecek olursak eğer :"
   ],
   "metadata": {
    "collapsed": false
   }
  },
  {
   "cell_type": "code",
   "execution_count": 35,
   "outputs": [
    {
     "name": "stdout",
     "output_type": "stream",
     "text": [
      "[[0.05675942 0.06507903 0.4949374  ... 0.         0.         0.        ]\n",
      " [0.06522804 0.0505011  0.3891846  ... 0.         0.         0.        ]\n",
      " [0.06652524 0.05380305 1.0433797  ... 0.         0.         0.        ]\n",
      " ...\n",
      " [0.947155   0.9361667  0.5393416  ... 0.         0.         0.        ]\n",
      " [0.9567341  0.95334876 0.41188383 ... 0.         0.         0.        ]\n",
      " [0.96219033 0.9553744  1.104331   ... 0.         0.         0.        ]]\n"
     ]
    }
   ],
   "source": [
    "print(outputs[0])"
   ],
   "metadata": {
    "collapsed": false,
    "pycharm": {
     "name": "#%%\n"
    }
   }
  },
  {
   "cell_type": "markdown",
   "source": [
    "Şimdi ise çıktı katmnanını ill kutusunun içerisindeki değerlere bakalım :"
   ],
   "metadata": {
    "collapsed": false
   }
  },
  {
   "cell_type": "code",
   "execution_count": 36,
   "outputs": [
    {
     "name": "stdout",
     "output_type": "stream",
     "text": [
      "[5.6759425e-02 6.5079026e-02 4.9493739e-01 1.8464674e-01 8.8470316e-08\n",
      " 0.0000000e+00 0.0000000e+00 0.0000000e+00 0.0000000e+00 0.0000000e+00\n",
      " 0.0000000e+00 0.0000000e+00 0.0000000e+00 0.0000000e+00 0.0000000e+00\n",
      " 0.0000000e+00 0.0000000e+00 0.0000000e+00 0.0000000e+00 0.0000000e+00\n",
      " 0.0000000e+00 0.0000000e+00 0.0000000e+00 0.0000000e+00 0.0000000e+00\n",
      " 0.0000000e+00 0.0000000e+00 0.0000000e+00 0.0000000e+00 0.0000000e+00\n",
      " 0.0000000e+00 0.0000000e+00 0.0000000e+00 0.0000000e+00 0.0000000e+00\n",
      " 0.0000000e+00 0.0000000e+00 0.0000000e+00 0.0000000e+00 0.0000000e+00\n",
      " 0.0000000e+00 0.0000000e+00 0.0000000e+00 0.0000000e+00 0.0000000e+00\n",
      " 0.0000000e+00 0.0000000e+00 0.0000000e+00 0.0000000e+00 0.0000000e+00\n",
      " 0.0000000e+00 0.0000000e+00 0.0000000e+00 0.0000000e+00 0.0000000e+00\n",
      " 0.0000000e+00 0.0000000e+00 0.0000000e+00 0.0000000e+00 0.0000000e+00\n",
      " 0.0000000e+00 0.0000000e+00 0.0000000e+00 0.0000000e+00 0.0000000e+00\n",
      " 0.0000000e+00 0.0000000e+00 0.0000000e+00 0.0000000e+00 0.0000000e+00\n",
      " 0.0000000e+00 0.0000000e+00 0.0000000e+00 0.0000000e+00 0.0000000e+00\n",
      " 0.0000000e+00 0.0000000e+00 0.0000000e+00 0.0000000e+00 0.0000000e+00\n",
      " 0.0000000e+00 0.0000000e+00 0.0000000e+00 0.0000000e+00 0.0000000e+00]\n"
     ]
    }
   ],
   "source": [
    "print(outputs[0][0])"
   ],
   "metadata": {
    "collapsed": false,
    "pycharm": {
     "name": "#%%\n"
    }
   }
  },
  {
   "cell_type": "markdown",
   "source": [
    "Evet işte karşımızda ilk katmanın ilk kutusunun 85 stün için değerleri. Bu 85 stünun neyi temsil ettiğini açıklayayım hemen. İlk 5 stün standarttır ve kutu ile ilgili bilgileri verir. Sırası ile sol üst köşesi için x, y, kutu eni, kutu boyu ve içerisinde bir obje olma olasılığıdır. Geriye kalan 80 stün ise kullandığımız model içerisine yani YoloV3-320 içerinde tespit edilebilir olan objeleri temsil eder. Örneğin 6.stün arabayı temsil eder, tuttuğu değer ise kutu içerisindeki objenin (eğer var ise) arabaya benzerlik yüzdesidir. Bu şekilde geriye kalan 79 sütun da kutu içerisindeki objenin temsil ettikleri objelere benzerlik oranını tutar.\n",
    "\n",
    "Biz de bu sütunların tuttukları değerlere göre objenin olup olmasığını ve eğer varsa hangi obje olduğunu anlamı oluruz. Tabi biz bu işlemi tüm 7300 kutucuğa yapıyoruz. Bu işlemide ileryeyen kısımlarda koda dökeceğiz tabiki.\n",
    "\n",
    "Eğer stünlura bir tablo ile temsil edecek olursak eğer :\n",
    "\n",
    "![](images/table.png)\n",
    "\n",
    "Burada bilmeniz gereken en öenmli şey ise sütunlardaki en-boy oranlarının 320x320 piksel bir resime göre ayarlanmış olamsıdır yani ilerleyen kısımlarda bu değeri kendi resimimizin boyutuna göre yeniden ayarlayacağız. O zaman başlayalım. İlk olarak resimimizin orjinal en-boy ölçğlerini alalım."
   ],
   "metadata": {
    "collapsed": false
   }
  },
  {
   "cell_type": "code",
   "execution_count": 37,
   "outputs": [],
   "source": [
    "height, width, channel = img.shape"
   ],
   "metadata": {
    "collapsed": false,
    "pycharm": {
     "name": "#%%\n"
    }
   }
  },
  {
   "cell_type": "markdown",
   "source": [
    "Sonrasında ise bir obje tespit edilen kutuların bilgilerini saklayacak listeler oluşturalı. Eğer ki istediğimiz oranın üzerisnde bir benzerlik oranı var ise kutunun değerleini bu listelerde saklayacağız."
   ],
   "metadata": {
    "collapsed": false
   }
  },
  {
   "cell_type": "code",
   "execution_count": 38,
   "outputs": [],
   "source": [
    "boundingBoxes = []\n",
    "objectsIds = []\n",
    "confidenceRates = []"
   ],
   "metadata": {
    "collapsed": false,
    "pycharm": {
     "name": "#%%\n"
    }
   }
  },
  {
   "cell_type": "markdown",
   "source": [
    "Şimdi ise tüm çıktı katmanlarının içerisinden tek tek çıktı katmanını, bu çıktı katmanının da içerisindeki her bir kutuyu inceleme zamanı. Bunun için bir döngü içerisinde döngü açıyoruz."
   ],
   "metadata": {
    "collapsed": false
   }
  },
  {
   "cell_type": "code",
   "execution_count": null,
   "outputs": [],
   "source": [
    "for output in outputs:\n",
    "    for detection in output:"
   ],
   "metadata": {
    "collapsed": false,
    "pycharm": {
     "name": "#%%\n",
     "is_executing": true
    }
   }
  },
  {
   "cell_type": "markdown",
   "source": [
    "Daha sonrasında ise stünlar içerisindeki en yüksek doğruluk skoruna sahip stünu bulacağız. Bunun için ilk adımımız ilk 5 sütunu işlemden çıkarmak çünkü farklı değerler tutuyorlar. Sonrasında ise np.argmax() ile en yüksek skora sahip stünun indeksini öreniyor ve bunulada sütunun benzerlik oranını çekiyoruz."
   ],
   "metadata": {
    "collapsed": false
   }
  },
  {
   "cell_type": "code",
   "execution_count": null,
   "outputs": [],
   "source": [
    "        detectionScores = detection[5:]\n",
    "        objectId = np.argmax(detectionScores)\n",
    "        confidence = detectionScores[objectId]"
   ],
   "metadata": {
    "collapsed": false,
    "pycharm": {
     "name": "#%%\n"
    }
   }
  },
  {
   "cell_type": "markdown",
   "source": [
    "Sonrasında ise eğer bu benzerlik oranı bizim belirlediğimzi oranın üstünde ise, bizim durumumuzda %70, kutunun değerlerini kayıt ediyoruz. Ama öncesinde orjinal resim boyutuna göre yeniden şekillendirerek."
   ],
   "metadata": {
    "collapsed": false
   }
  },
  {
   "cell_type": "code",
   "execution_count": null,
   "outputs": [],
   "source": [
    "        if confidence > 0.7:\n",
    "            w, h = int(detection[2] * width), int(detection[3] * height)\n",
    "            x, y = int((detection[0] * width) - w / 2), int((detection[1] * height) - h / 2)\n",
    "            boundingBoxes.append([x, y, w, h])\n",
    "            objectsIds.append(objectId)\n",
    "            confidenceRates.append(float(confidence))"
   ],
   "metadata": {
    "collapsed": false,
    "pycharm": {
     "name": "#%%\n"
    }
   }
  },
  {
   "cell_type": "markdown",
   "source": [
    "Evet artık çıktı katmanlarının sonuçlarından elde ettiğimiz nesne tespiti sonuçlarımız var. Aslında buradan sonra sahip olduğumuz tüm kutuları çizerek işlemi bitirebiliriz ama böyle yaptığımızda yeni bir sorun ile karşılaşacağız buda üst üste binmiş kutular, yani tespit nesnesinin birden fazla kutunun alanı içersinde olmasından dolayı aynı nesneyi tespit etmiş birden fazla kutu. Bunu çözmek içinde OpenCV'nin bize sunduğu NMSBoxes() methodunu kullanacağız. Bu methodun açılımı Non Maximum Supperresion'dur, yaptığı işlem ise üst üsse binen kutuları bularak aralarında benzerlik oranı yüksek oranı saklar, diğerini veya diğerlerini de siler. Böylece temiz bir sonuzcumuz olur."
   ],
   "metadata": {
    "collapsed": false
   }
  },
  {
   "cell_type": "code",
   "execution_count": null,
   "outputs": [],
   "source": [
    "indexes = cv.dnn.NMSBoxes(boundingBoxes, confidenceRates, 0.5, 0.2)"
   ],
   "metadata": {
    "collapsed": false,
    "pycharm": {
     "name": "#%%\n"
    }
   }
  },
  {
   "cell_type": "markdown",
   "source": [
    "Artık elimizdeki temiz sounçlar ile reim üzerinde bu snuçları gösterme zamanı. Bunun için ilk olarak sakladığımız x, y, w ve h değerleri ile bir dikdörtgen çizdiriyoruz sonrasında ise tespit edilen sütunun isim dosyasında ki karşılığını hesaplıyor ve bunuda ekrana yazdırıyoruz. İsim dosyasının önemide tam olarak burada eğer çok sınıflı bir model ile çalışıyor iseniz bu çıkt değerlerinin isimleriş bilmeniz de önemli. Bunun içinde isim dosyalarındaki isimler, sütunlar ile aynı sırada olur ve bu sayede basit bir işlemle daha önce liste içerinde depoladığımız isimlerden sütunun temsil ettiği objenin ismini bulabiliriz."
   ],
   "metadata": {
    "collapsed": false
   }
  },
  {
   "cell_type": "code",
   "execution_count": null,
   "outputs": [],
   "source": [
    "for i in indexes:\n",
    "    box = boundingBoxes[i]\n",
    "    x, y, w, h = box[0], box[1], box[2], box[3]\n",
    "    cv.rectangle(img, (x, y), (x + w, y + h), (255, 0, 255), 2)\n",
    "    cv.putText(img, \"{}, %{}\".format(nameOfClasses[objectsIds[i]].upper(), int(confidenceRates[i] * 100)),\n",
    "               (x, y - 10), cv.FONT_HERSHEY_COMPLEX_SMALL, 1, (255,0,255), 2)"
   ],
   "metadata": {
    "collapsed": false,
    "pycharm": {
     "name": "#%%\n"
    }
   }
  },
  {
   "cell_type": "markdown",
   "source": [
    "Artık geriye kalan tek şey resimi ekran yazdırmak . . ."
   ],
   "metadata": {
    "collapsed": false
   }
  },
  {
   "cell_type": "code",
   "execution_count": null,
   "outputs": [],
   "source": [
    "cv.imshow('Image', img)\n",
    "cv.waitKey(0)\n",
    "cv.destroyAllWindows()"
   ],
   "metadata": {
    "collapsed": false,
    "pycharm": {
     "name": "#%%\n"
    }
   }
  }
 ],
 "metadata": {
  "kernelspec": {
   "display_name": "Python 3",
   "language": "python",
   "name": "python3"
  },
  "language_info": {
   "codemirror_mode": {
    "name": "ipython",
    "version": 2
   },
   "file_extension": ".py",
   "mimetype": "text/x-python",
   "name": "python",
   "nbconvert_exporter": "python",
   "pygments_lexer": "ipython2",
   "version": "2.7.6"
  }
 },
 "nbformat": 4,
 "nbformat_minor": 0
}