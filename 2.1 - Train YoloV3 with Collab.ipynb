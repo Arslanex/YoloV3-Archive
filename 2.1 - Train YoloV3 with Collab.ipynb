{
 "cells": [
  {
   "cell_type": "markdown",
   "source": [
    "YoloV3'ü neden Collab üzerinden eğitiriz ? Bu sorunu cevabı Collab'ın Google sunucuları üzerinden biz piyasada bulamayacağız kadar güçlü bir ekran kartı vermesi, indirme işlemlerinin oldukça hızlı olması ve pyhon ile uyumlu - tüm kütüphanelerin kullanılabilir olmasıdır. Başlamadan önce yapmanız gerekn tek şey sunucu ayarlarında işlemci tipini GPU olarak seçmektir. Sonrasında ise bu dosyayı olduğu şekilde çalıştırmanız yeterlidir. Bu kod sadece collab ortamı için hazrılanmıştır bu yüzden kendi bilgisayarınızda çalıştırmayı denemeyin.\n",
    "\n",
    "Not :: Bu dosya tek objeli modeller eğitmek için hazırlanmıştır.\n",
    "\n",
    "İlk olarak collab'ın bize atadığı GPU bilgilerine bakmak için . . ."
   ],
   "metadata": {
    "collapsed": false
   }
  },
  {
   "cell_type": "code",
   "execution_count": null,
   "metadata": {
    "collapsed": true
   },
   "outputs": [],
   "source": [
    "!nvidia-smi"
   ]
  },
  {
   "cell_type": "markdown",
   "source": [
    "Daha sonrasında Google Drive'ımız ile bağlantı kurmak için bağlantı izni atıyoruz. Bu hücre çalıştığında karşınıza  onay vermeniz için bir izin ekranı çıkacaktır."
   ],
   "metadata": {
    "collapsed": false
   }
  },
  {
   "cell_type": "code",
   "execution_count": null,
   "outputs": [],
   "source": [
    "from google.colab import drive\n",
    "drive.mount('/content/gdrive')\n",
    "!ln -s /content/gdrive/My\\ Drive/ /mydrive\n",
    "!ls /mydrive"
   ],
   "metadata": {
    "collapsed": false,
    "pycharm": {
     "name": "#%%\n"
    }
   }
  },
  {
   "cell_type": "markdown",
   "source": [
    "Daha sonra eğitim için Darknet reposunu klonluyoruz. Sonuçta bu hazır bir nöral ağ ve bu yüzden eğitimin de ağ üzerinden gerçekleştirilmesi gerekli."
   ],
   "metadata": {
    "collapsed": false
   }
  },
  {
   "cell_type": "code",
   "execution_count": null,
   "outputs": [],
   "source": [
    "!git clone https://github.com/AlexeyAB/darknet"
   ],
   "metadata": {
    "collapsed": false,
    "pycharm": {
     "name": "#%%\n"
    }
   }
  },
  {
   "cell_type": "markdown",
   "source": [
    "DarkNet'i GPU ile derliyoruz."
   ],
   "metadata": {
    "collapsed": false
   }
  },
  {
   "cell_type": "code",
   "execution_count": null,
   "outputs": [],
   "source": [
    "%cd darknet\n",
    "!sed -i 's/OPENCV=0/OPENCV=1/' Makefile\n",
    "!sed -i 's/GPU=0/GPU=1/' Makefile\n",
    "!sed -i 's/CUDNN=0/CUDNN=1/' Makefile\n",
    "!make"
   ],
   "metadata": {
    "collapsed": false,
    "pycharm": {
     "name": "#%%\n"
    }
   }
  },
  {
   "cell_type": "markdown",
   "source": [
    "Buradan sorası default parçalardan oluşuyor. Bizlerin burada yapabileceğim tek değişiklk eğitimi gerçekleştrmek istediğimiz modele göre cfg dosyalarını ayarlayabiliriz. Örneğin bu hücre yolo-tiny'e göre model eğitirken . . ."
   ],
   "metadata": {
    "collapsed": false
   }
  },
  {
   "cell_type": "code",
   "execution_count": null,
   "outputs": [],
   "source": [
    "!cp cfg/yolov3-tiny.cfg cfg/yolov3_training-tiny.cfg"
   ],
   "metadata": {
    "collapsed": false,
    "pycharm": {
     "name": "#%%\n"
    }
   }
  },
  {
   "cell_type": "markdown",
   "source": [
    "Bu hücre yolo-320'e göre model eğitimi yapacaktır."
   ],
   "metadata": {
    "collapsed": false
   }
  },
  {
   "cell_type": "code",
   "execution_count": null,
   "outputs": [],
   "source": [
    "!cp cfg/yolov3.cfg cfg/yolov3_training.cfg"
   ],
   "metadata": {
    "collapsed": false,
    "pycharm": {
     "name": "#%%\n"
    }
   }
  },
  {
   "cell_type": "code",
   "execution_count": null,
   "outputs": [],
   "source": [
    "!sed -i 's/batch=1/batch=64/' cfg/yolov3_training.cfg\n",
    "!sed -i 's/subdivisions=1/subdivisions=16/' cfg/yolov3_training.cfg\n",
    "!sed -i 's/max_batches = 500200/max_batches = 4000/' cfg/yolov3_training.cfg\n",
    "!sed -i '610 s@classes=80@classes=1@' cfg/yolov3_training.cfg\n",
    "!sed -i '696 s@classes=80@classes=1@' cfg/yolov3_training.cfg\n",
    "!sed -i '783 s@classes=80@classes=1@' cfg/yolov3_training.cfg\n",
    "!sed -i '603 s@filters=255@filters=18@' cfg/yolov3_training.cfg\n",
    "!sed -i '689 s@filters=255@filters=18@' cfg/yolov3_training.cfg\n",
    "!sed -i '776 s@filters=255@filters=18@' cfg/yolov3_training.cfg"
   ],
   "metadata": {
    "collapsed": false,
    "pycharm": {
     "name": "#%%\n"
    }
   }
  },
  {
   "cell_type": "markdown",
   "source": [
    "Daha sonrasında ise drive'dan eğitim resimlerini içeren zip dosyasını içe aktarıyoruz. İkici hücrede obje isminizde değişiklik yapmayı unutmayın."
   ],
   "metadata": {
    "collapsed": false
   }
  },
  {
   "cell_type": "code",
   "execution_count": null,
   "outputs": [],
   "source": [
    "!mkdir \"/mydrive/yolov3\""
   ],
   "metadata": {
    "collapsed": false,
    "pycharm": {
     "name": "#%%\n"
    }
   }
  },
  {
   "cell_type": "code",
   "execution_count": null,
   "outputs": [],
   "source": [
    "!echo \"Obje İsmi\" > data/obj.names\n",
    "!echo -e 'classes= 1\\ntrain  = data/train.txt\\nvalid  = data/test.txt\\nnames = data/obj.names\\nbackup = /mydrive/yolov3' > data/obj.data\n",
    "!mkdir data/obj"
   ],
   "metadata": {
    "collapsed": false,
    "pycharm": {
     "name": "#%%\n"
    }
   }
  },
  {
   "cell_type": "markdown",
   "source": [
    "Sonrasında eğitim için gerekli ağırlıkları içe aktarıyoruz."
   ],
   "metadata": {
    "collapsed": false
   }
  },
  {
   "cell_type": "code",
   "execution_count": null,
   "outputs": [],
   "source": [
    "!wget https://pjreddie.com/media/files/darknet53.conv.74"
   ],
   "metadata": {
    "collapsed": false,
    "pycharm": {
     "name": "#%%\n"
    }
   }
  },
  {
   "cell_type": "markdown",
   "source": [
    "Sonrasında ise içe aktardığımız zip dosyasının içersindeki resimler dışarı çıkarıyoruz ve sırası ile işleme alıyoruz."
   ],
   "metadata": {
    "collapsed": false
   }
  },
  {
   "cell_type": "code",
   "execution_count": null,
   "outputs": [],
   "source": [
    "import glob\n",
    "import os\n",
    "import re\n",
    "\n",
    "txt_file_paths = glob.glob(r\"data/obj/*.txt\")\n",
    "for i, file_path in enumerate(txt_file_paths):\n",
    "    # get image size\n",
    "    with open(file_path, \"r\") as f_o:\n",
    "        lines = f_o.readlines()\n",
    "\n",
    "        text_converted = []\n",
    "        for line in lines:\n",
    "            print(line)\n",
    "            numbers = re.findall(\"[0-9.]+\", line)\n",
    "            print(numbers)\n",
    "            if numbers:\n",
    "\n",
    "                # Define coordinates\n",
    "                text = \"{} {} {} {} {}\".format(0, numbers[1], numbers[2], numbers[3], numbers[4])\n",
    "                text_converted.append(text)\n",
    "                print(i, file_path)\n",
    "                print(text)\n",
    "        # Write file\n",
    "        with open(file_path, 'w') as fp:\n",
    "            for item in text_converted:\n",
    "                fp.writelines(\"%s\\n\" % item)"
   ],
   "metadata": {
    "collapsed": false,
    "pycharm": {
     "name": "#%%\n"
    }
   }
  },
  {
   "cell_type": "code",
   "execution_count": null,
   "outputs": [],
   "source": [
    "import glob\n",
    "images_list = glob.glob(\"data/obj/*.jpg\")\n",
    "print(images_list)"
   ],
   "metadata": {
    "collapsed": false,
    "pycharm": {
     "name": "#%%\n"
    }
   }
  },
  {
   "cell_type": "markdown",
   "source": [
    "Sonrasında train.txt dosyası oluşturyoruz."
   ],
   "metadata": {
    "collapsed": false
   }
  },
  {
   "cell_type": "code",
   "execution_count": null,
   "outputs": [],
   "source": [
    "file = open(\"data/train.txt\", \"w\")\n",
    "file.write(\"\\n\".join(images_list))\n",
    "file.close()"
   ],
   "metadata": {
    "collapsed": false,
    "pycharm": {
     "name": "#%%\n"
    }
   }
  },
  {
   "cell_type": "markdown",
   "source": [
    "Artık eğitimi başlatabiliriz. Burada dikkat etmeniz gereken şey average_loss değerinin en düşük haline gelmesidir."
   ],
   "metadata": {
    "collapsed": false
   }
  },
  {
   "cell_type": "code",
   "execution_count": null,
   "outputs": [],
   "source": [
    "!./darknet detector train data/obj.data cfg/yolov3_training.cfg darknet53.conv.74 -dont_show"
   ],
   "metadata": {
    "collapsed": false,
    "pycharm": {
     "name": "#%%\n"
    }
   }
  },
  {
   "cell_type": "markdown",
   "source": [
    "# Çok Objeli Modeller İçin\n",
    "Eğer modeliniz birden fazla obje tanıyor ise cfg (config) dosyasında bazı değişiklikler yapmanız gerekmektedir. Bu değişiklikler cfg dosyası içerisinde [yolo] içerisindeki \" classes \" ve [convolutional] içerisinde \" filters \" değerleridir.\n",
    "Tüm dosyadaki classes değerlerini modelinizin sahip olduğu sınıf sayısında göre ve filters değerlerinide (sınıf sayısı + 5)*3 değerine eşitliyorsunuz. Rktra oalrakta yapabileceğiniz değişiklikler mğmlündğr tabi, max_baches = num of classes * 2000 ,"
   ],
   "metadata": {
    "collapsed": false
   }
  }
 ],
 "metadata": {
  "kernelspec": {
   "display_name": "Python 3",
   "language": "python",
   "name": "python3"
  },
  "language_info": {
   "codemirror_mode": {
    "name": "ipython",
    "version": 2
   },
   "file_extension": ".py",
   "mimetype": "text/x-python",
   "name": "python",
   "nbconvert_exporter": "python",
   "pygments_lexer": "ipython2",
   "version": "2.7.6"
  }
 },
 "nbformat": 4,
 "nbformat_minor": 0
}