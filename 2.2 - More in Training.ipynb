{
 "cells": [
  {
   "cell_type": "markdown",
   "source": [
    "Bu yazıda kendi modelimizi eğtiriken nelere dikakt etmemmiz gerektiğini ve doğru eğitim için cfg dosyasının nasıl editlenmesi gerektiği gibi konuları konuşacağız. Ideal bir model için doğru formda eğitim çok önemlidir bu yüzden başlayalım.\n",
    "\n",
    "# ADIM 1 - Verisetini hazırlama\n",
    "\n",
    "- İlk olarak obje resimleri indirilecek veya toplanarak bir kalasör haline getirilmeli,\n",
    "- LabelImg tool'u ile bu klasördeki tüm resimlere label atılmalı,\n",
    "- Sonrasında klasörün içinin tamamı \" images.zip \" olarak zip haline getirilmelidir.\n",
    "\n",
    "# ADIM 2 - Drive ve Collab Ayarlamalı\n",
    "- Google Drive için\n",
    "    - yolov3 isimli bir klasör oluşturun\n",
    "    - zip haline getirdiğiniz images.zip dosyasını buray yükleyin\n",
    "- Google Collab İçin\n",
    "    -\n",
    "    -\n",
    "\n",
    "# ADIM 3 - Drive Dosyalarına Erişin"
   ],
   "metadata": {
    "collapsed": false
   }
  },
  {
   "cell_type": "code",
   "execution_count": null,
   "metadata": {
    "collapsed": true
   },
   "outputs": [],
   "source": [
    "from google.colab import drive\n",
    "drive.mount('/content/gdrive')\n",
    "!ln -s /content/gdrive/My\\ Drive/ /mydrive\n",
    "!ls /mydrive"
   ]
  },
  {
   "cell_type": "markdown",
   "source": [
    "# ADIM 4 - Darknet'i Klonla, Konfigüre et ve Derle"
   ],
   "metadata": {
    "collapsed": false
   }
  },
  {
   "cell_type": "code",
   "execution_count": null,
   "outputs": [],
   "source": [
    "!git clone https://github.com/AlexeyAB/darknet"
   ],
   "metadata": {
    "collapsed": false,
    "pycharm": {
     "name": "#%%\n"
    }
   }
  },
  {
   "cell_type": "markdown",
   "source": [
    "Bu noktadan sonra makefile dosyası yani derleme dosyasını nesne sınfımıza göre yeniden ayarlayacağız. MakeFile dosyasında değiştirmemiz gerekn şeyler :\n",
    "- GPU = 1\n",
    "- CUDANN = 1\n",
    "- OPENCV = 1"
   ],
   "metadata": {
    "collapsed": false
   }
  },
  {
   "cell_type": "code",
   "execution_count": null,
   "outputs": [],
   "source": [
    "%cd darknet\n",
    "!sed -i 's/OPENCV=0/OPENCV=1/' Makefile\n",
    "!sed -i 's/GPU=0/GPU=1/' Makefile\n",
    "!sed -i 's/CUDNN=0/CUDNN=1/' Makefile"
   ],
   "metadata": {
    "collapsed": false,
    "pycharm": {
     "name": "#%%\n"
    }
   }
  },
  {
   "cell_type": "code",
   "execution_count": null,
   "outputs": [],
   "source": [
    "!make"
   ],
   "metadata": {
    "collapsed": false,
    "pycharm": {
     "name": "#%%\n"
    }
   }
  },
  {
   "cell_type": "markdown",
   "source": [
    "# ADIM 5 - .cfg Dosyasını Konfigüre Et\n",
    "Eğitim parametrelerine göre\n",
    "- yolov3.cfg\n",
    "- yolov3-tiny.cfg\n",
    "dosyalarından kullanacağımızı elden geçirmemiz lazım. Bunun için bir kopyasını yerel bilgisyaramıza indirelim.\n",
    "- İndirilen kopyada aşağıdaki satrıları değiştirmeliyiz\n",
    "    - batch = 64\n",
    "    - subdivision = 16\n",
    "    - max_batches = num_of_classes * 2000\n",
    "    - filters = (num_of_classes + 5) * 3\n",
    "    - classes = num_of_classes"
   ],
   "metadata": {
    "collapsed": false
   }
  },
  {
   "cell_type": "code",
   "execution_count": null,
   "outputs": [],
   "source": [
    "# .cfg dosyasını kopyalıyorum\n",
    "!cp cfg/yolov3.cfg cfg/yolov3_training.cfg"
   ],
   "metadata": {
    "collapsed": false,
    "pycharm": {
     "name": "#%%\n"
    }
   }
  },
  {
   "cell_type": "code",
   "execution_count": null,
   "outputs": [],
   "source": [
    "# Tek sınıflı bir model için\n",
    "!sed -i 's/batch=1/batch=64/' cfg/yolov3_training.cfg\n",
    "!sed -i 's/subdivisions=1/subdivisions=16/' cfg/yolov3_training.cfg\n",
    "!sed -i 's/max_batches = 500200/max_batches = 4000/' cfg/yolov3_training.cfg\n",
    "!sed -i '610 s@classes=80@classes=1@' cfg/yolov3_training.cfg\n",
    "!sed -i '696 s@classes=80@classes=1@' cfg/yolov3_training.cfg\n",
    "!sed -i '783 s@classes=80@classes=1@' cfg/yolov3_training.cfg\n",
    "!sed -i '603 s@filters=255@filters=18@' cfg/yolov3_training.cfg\n",
    "!sed -i '689 s@filters=255@filters=18@' cfg/yolov3_training.cfg\n",
    "!sed -i '776 s@filters=255@filters=18@' cfg/yolov3_training.cfg"
   ],
   "metadata": {
    "collapsed": false,
    "pycharm": {
     "name": "#%%\n"
    }
   }
  },
  {
   "cell_type": "markdown",
   "source": [
    "# ADIM 6 - Names Dosyası Oluşturma"
   ],
   "metadata": {
    "collapsed": false
   }
  },
  {
   "cell_type": "code",
   "execution_count": null,
   "outputs": [],
   "source": [
    "!echo -e \"Obje İsmi\\nObje İsmi\\n . . .\" > data/obj.names"
   ],
   "metadata": {
    "collapsed": false,
    "pycharm": {
     "name": "#%%\n"
    }
   }
  },
  {
   "cell_type": "markdown",
   "source": [
    "# ADIM 7 - .data Dosyası Oluşturma"
   ],
   "metadata": {
    "collapsed": false
   }
  },
  {
   "cell_type": "code",
   "execution_count": null,
   "outputs": [],
   "source": [
    "!echo -e 'classes= 3\\ntrain  = data/train.txt\\nvalid  = data/test.txt\\nnames = data/obj.names\\nbackup = /mydrive/yolov3' > data/obj.data"
   ],
   "metadata": {
    "collapsed": false,
    "pycharm": {
     "name": "#%%\n"
    }
   }
  },
  {
   "cell_type": "code",
   "execution_count": null,
   "outputs": [],
   "source": [
    "# .cfg ve .names dosyalarını Drive'a kayıt ediyorum\n",
    "!cp cfg/yolov3_training.cfg /mydrive/yolov3/yolov3_testing.cfg\n",
    "!cp data/obj.names /mydrive/yolov3/classes.txt"
   ],
   "metadata": {
    "collapsed": false,
    "pycharm": {
     "name": "#%%\n"
    }
   }
  },
  {
   "cell_type": "code",
   "execution_count": null,
   "outputs": [],
   "source": [
    "!mkdir data/obj"
   ],
   "metadata": {
    "collapsed": false,
    "pycharm": {
     "name": "#%%\n"
    }
   }
  },
  {
   "cell_type": "code",
   "execution_count": null,
   "outputs": [],
   "source": [
    "!unzip /mydrive/yolov3/images.zip -d data/obj"
   ],
   "metadata": {
    "collapsed": false,
    "pycharm": {
     "name": "#%%\n"
    }
   }
  },
  {
   "cell_type": "markdown",
   "source": [
    "# ADIM 8 - train.txt Dosyası Oluşturma"
   ],
   "metadata": {
    "collapsed": false
   }
  },
  {
   "cell_type": "code",
   "execution_count": null,
   "outputs": [],
   "source": [
    "import glob\n",
    "\n",
    "images_list = glob.glob(\"data/obj/*.jpg\")\n",
    "with open(\"data/train.txt\", \"w\") as f:\n",
    "    f.write(\"\\n\".join(images_list))"
   ],
   "metadata": {
    "collapsed": false,
    "pycharm": {
     "name": "#%%\n"
    }
   }
  },
  {
   "cell_type": "markdown",
   "source": [
    "# ADIM 9 - pre-trained ağırlıkları İndir\n",
    "\n",
    "yolov3-tiny için farklı ağırlıkların indirilmesi gerekmektedir. Bu dosya yolov3 320 içindir."
   ],
   "metadata": {
    "collapsed": false
   }
  },
  {
   "cell_type": "code",
   "execution_count": null,
   "outputs": [],
   "source": [
    "!wget https://pjreddie.com/media/files/darknet53.conv.74"
   ],
   "metadata": {
    "collapsed": false,
    "pycharm": {
     "name": "#%%\n"
    }
   }
  },
  {
   "cell_type": "markdown",
   "source": [
    "# ADIM 10 - Eğitime Başla"
   ],
   "metadata": {
    "collapsed": false
   }
  },
  {
   "cell_type": "code",
   "execution_count": null,
   "outputs": [],
   "source": [
    "!./darknet detector train data/obj.data cfg/yolov3_training.cfg darknet53.conv.74 -dont_show"
   ],
   "metadata": {
    "collapsed": false,
    "pycharm": {
     "name": "#%%\n"
    }
   }
  },
  {
   "cell_type": "markdown",
   "source": [
    "Yukarıdaki kodu 4 parçaya ayırırsak eğer :\n",
    "1. /darknet detector train :: Train komutu\n",
    "2. data/obj.data :: Train için kullanılacak veriler\n",
    "3. yolov3_training.cfg :: Train için kullanıalcak .cfg dosyası\n",
    "4. darknet53.conv.74 :: Train için kullanıalcak ağırlıklar\n",
    "\n",
    "Önemli bir not : Bazı durumlarda Google Collab ile olan bağınız kesilebilir ve işlem durabilir (sonlanır) böyle bir durumda en baştan başlamak yerine Google Drive'ınızda bulunan \" yolov3_training_last.weights \" dosyasını kullanarak en son kayıt edilmiş süreçten başlayabilirisniz. Bunun için yapmanız gereken tek şey :"
   ],
   "metadata": {
    "collapsed": false
   }
  },
  {
   "cell_type": "code",
   "execution_count": null,
   "outputs": [],
   "source": [
    "!./darknet detector train data/obj.data cfg/yolov3_training.cfg /mydrive/yolov3/yolov3_training_last.weights"
   ],
   "metadata": {
    "collapsed": false,
    "pycharm": {
     "name": "#%%\n"
    }
   }
  },
  {
   "cell_type": "markdown",
   "source": [
    "Bu işlemi yolov3-tiny için yapıyor olsaydık :"
   ],
   "metadata": {
    "collapsed": false
   }
  },
  {
   "cell_type": "code",
   "execution_count": null,
   "outputs": [],
   "source": [
    "!./darknet detector train data/obj.data cfg/yolov3_training.cfg /mydrive/yolov3/yolov3_training_last.weights -dont_show"
   ],
   "metadata": {
    "collapsed": false,
    "pycharm": {
     "name": "#%%\n"
    }
   }
  },
  {
   "cell_type": "markdown",
   "source": [
    "# Eğitilen Modeli Kullanmak İçin\n",
    "1. Ağırlık Dosyalarını Google Drive üzerinden indirin\n",
    "2. Konfigrasyon dosyasını Collab veya Drive üzerinden indirin\n",
    "3. İsim Dosyasını Collab veya Drive Üzerinden indirin\n",
    "4. Opencv 3.4.2 veya üzeri bir sürüm kullanın\n",
    "\n",
    "## Ağırlıkların İndirilmesi\n",
    "Ağırlık dosyanızı indirmek için Google Drive hesabınızdaki ilgili klasöre girdiğinizde karşınıza birden fazla ağırlık dosyası çıkması oldukça muhtemel. Tüm aırlık dosyaları üzerinden tercih etmeniz gereken dosya \"yolov3_training_last.weights\" dosyasıdır.\n",
    "\n",
    "Olurda modelinizde over-fitting durumu oluştu (over-fitting durumu modelin eğtim için kullanılan veri serinde tespit yapabilmesi ama farklı resimlerde yapamaması durumudur. Modelin aynı resimler üzerinden çok tekrar yapıp ezber yapmasıdır) bunu çözmek için daha önceki safalarda kayıt alınmış ağırlıkları kullanabilrisiniz."
   ],
   "metadata": {
    "collapsed": false
   }
  }
 ],
 "metadata": {
  "kernelspec": {
   "display_name": "Python 3",
   "language": "python",
   "name": "python3"
  },
  "language_info": {
   "codemirror_mode": {
    "name": "ipython",
    "version": 2
   },
   "file_extension": ".py",
   "mimetype": "text/x-python",
   "name": "python",
   "nbconvert_exporter": "python",
   "pygments_lexer": "ipython2",
   "version": "2.7.6"
  }
 },
 "nbformat": 4,
 "nbformat_minor": 0
}